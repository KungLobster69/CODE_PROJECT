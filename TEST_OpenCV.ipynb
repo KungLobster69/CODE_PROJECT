{
 "cells": [
  {
   "cell_type": "code",
   "execution_count": null,
   "metadata": {},
   "outputs": [],
   "source": [
    "import cv2\n",
    "import mediapipe as mp\n",
    "import time\n",
    "\n",
    "mpDraw = mp.solutions.drawing_utils\n",
    "mpPose = mp.solutions.pose\n",
    "pose = mpPose.Pose()\n",
    "\n",
    "cap = cv2.VideoCapture(\"E:\\PROJECT\\KEEP_FIT\\VDO\\ไม่แปะจุด\\กุ้ง_ข้าง.mp4\")\n",
    "pTime = 0\n",
    "\n",
    "while True:\n",
    "  success, img = cap.read()\n",
    "  imgRGB = cv2.cvtColor(img, cv2.COLOR_BGR2RGB)\n",
    "  results = pose.process(imgRGB)\n",
    "  #print(results.pose_landmarks)\n",
    "  if results.pose_landmarks:\n",
    "    mpDraw.draw_landmarks(img, results.pose_landmarks, mpPose.POSE_CONNECTIONS)\n",
    "    for id, lm in enumerate(results.pose_landmarks.landmark):\n",
    "      h, w, c = img.shape\n",
    "      print(id, lm)\n",
    "      cx, cy = int(lm.x * w), int(lm.y * h)\n",
    "      cv2.circle(img, (cx,cy), 10, (255, 0, 0), cv2.FILLED)\n",
    "\n",
    "  cTime = time.time()\n",
    "  fps = 1/(cTime - pTime)\n",
    "  pTime = cTime\n",
    "  cv2.putText(img, str(int(fps)), (70,50), cv2.FONT_HERSHEY_PLAIN, 3, (255, 0, 0), 3)\n",
    "\n",
    "  cv2.imshow(\"Image\",img)\n",
    "  cv2.waitKey(1)"
   ]
  }
 ],
 "metadata": {
  "kernelspec": {
   "display_name": "Python 3.9.13 ('base')",
   "language": "python",
   "name": "python3"
  },
  "language_info": {
   "name": "python",
   "version": "3.9.13"
  },
  "orig_nbformat": 4,
  "vscode": {
   "interpreter": {
    "hash": "f13f1e44b83a815abe3f8de7dddd6937f129addc91e7485644ffe35d06782e4b"
   }
  }
 },
 "nbformat": 4,
 "nbformat_minor": 2
}
